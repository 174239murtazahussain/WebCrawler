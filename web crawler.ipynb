{
 "cells": [
  {
   "cell_type": "markdown",
   "metadata": {},
   "source": [
    "# Crawler\n",
    "\n",
    "This notebook contains started code structure for creating a crawler on single machine\n",
    "\n",
    "**Author:** Noshaba Nasir\n",
    "\n",
    "**Date:** 26/3/2021\n",
    "\n",
    "**Updated by:** <Write your name and Roll number here>\n",
    "    "
   ]
  },
  {
   "cell_type": "code",
   "execution_count": 1,
   "metadata": {},
   "outputs": [],
   "source": [
    "import os \n",
    "import random\n",
    "import time\n",
    "from collections import deque\n",
    "import datetime\n",
    "from urllib.parse import urlparse\n",
    "from urllib import robotparser\n",
    "import requests\n",
    "from bs4 import BeautifulSoup\n",
    "import threading\n",
    "# Add any library to be imported here"
   ]
  },
  {
   "cell_type": "code",
   "execution_count": 2,
   "metadata": {},
   "outputs": [],
   "source": [
    "# Crawler Parameters\n",
    "BACKQUEUES= 3\n",
    "THREADS= BACKQUEUES*3\n",
    "FRONTQUEUES= 5\n",
    "WAITTIME= 15 ; # wait 15 seconds before fetching URLS from \n",
    "headers = {\n",
    "    'Access-Control-Allow-Origin': '*',\n",
    "    'Access-Control-Allow-Methods': 'GET',\n",
    "    'Access-Control-Allow-Headers': 'Content-Type',\n",
    "    'Access-Control-Max-Age': '3600',\n",
    "    'User-Agent': 'Mozilla/5.0 (X11; Ubuntu; Linux x86_64; rv:52.0) Gecko/20100101 Firefox/52.0'\n",
    "    }\n",
    "S = threading.Semaphore(1)\n",
    "# Add any other global parameters here"
   ]
  },
  {
   "cell_type": "markdown",
   "metadata": {},
   "source": [
    "# FRONTIER\n",
    "\n",
    "Frontier should use the Mercator frontier design as discussed in lecture.\n",
    "\n",
    "Preferably it should be a class and should have the given functions.\n",
    "\n",
    "*prioritizer* function is a stub right now, it will return a random number  between 1 to f for given URL "
   ]
  },
  {
   "cell_type": "code",
   "execution_count": 3,
   "metadata": {
    "scrolled": true
   },
   "outputs": [],
   "source": [
    "class frontier:\n",
    "# add the code for frontier here\n",
    "# should have functions __init__, get_URL, add_URLs, add_to_backqueue\n",
    "    def __init__(self):\n",
    "        self.fQs = [deque() for i in range(FRONTQUEUES)]\n",
    "        self.bQs = [{\"Q\":deque(),\"t\":datetime.datetime.now(),\"d\":''} for j in range(BACKQUEUES)]\n",
    "        '''\n",
    "        Initializer\n",
    "        '''\n",
    "        None # replace this with your code\n",
    "        \n",
    "    # add more functions here\n",
    "    def addSeed(self,urls):\n",
    "        for url in urls:\n",
    "            self.add_to_fQ(url)\n",
    "    def add_to_fQ(self,url):\n",
    "        pr = prioritizer(url,FRONTQUEUES)\n",
    "        self.fQs[pr-1].append(url)\n",
    "    def move_to_bQ(self):\n",
    "        pr = random.randint(1,FRONTQUEUES)\n",
    "        if self.fQs[pr-1]:\n",
    "            url = self.fQs[pr-1].popleft()\n",
    "            domain = urlparse(url).netloc\n",
    "            ind = [i for i in range(BACKQUEUES) if domain in self.bQs[i][\"d\"]]\n",
    "            if len(ind)>0:\n",
    "                self.bQs[ind[0]][\"Q\"].append(url)\n",
    "            else:\n",
    "                ind = [i for i in range(BACKQUEUES) if not self.bQs[i][\"Q\"]]\n",
    "                if len(ind)>0:\n",
    "                    self.bQs[ind[0]][\"d\"]=domain\n",
    "                    self.bQs[ind[0]][\"t\"]=datetime.datetime.now()\n",
    "                    self.bQs[ind[0]][\"Q\"].append(url)\n",
    "    def get_url_from_bQ(self):\n",
    "        sortedQs = sorted(self.bQs,key=lambda x: x['t'], reverse=True)\n",
    "        if sortedQs[0]['Q']:\n",
    "            wait = 0\n",
    "            c_t = datetime.datetime.now()\n",
    "            if sortedQs[0]['t'] > c_t:\n",
    "                wait=sortedQs[0]['t']-c_t\n",
    "                print(\" wait:\"+str(wait.seconds)+\"seconds \\n\")\n",
    "                time.sleep(wait.seconds)\n",
    "            #if wait.seconds > 0:\n",
    "             #   time.sleep(wait.seconds)\n",
    "            S.acquire()\n",
    "            if sortedQs[0]['Q']:\n",
    "                sortedQs[0]['d'] = ' '\n",
    "                url=sortedQs[0]['Q'].popleft()\n",
    "                for i in range(BACKQUEUES):\n",
    "                    d = urlparse(url).netloc\n",
    "                    if d in self.bQs[i]['d']:\n",
    "                        self.bQs[i]['t'] = datetime.datetime.now() + datetime.timedelta(seconds=WAITTIME)\n",
    "                        break\n",
    "                S.release()\n",
    "                return url\n",
    "            S.release()\n",
    "        return None\n",
    "        #print(sortedQs)\n",
    "\n",
    "def prioritizer(URL,f):\n",
    "    \"\"\"\n",
    "    Take URL and returns priority from 1 to F\n",
    "    Right now it like a stub function. \n",
    "    It will return a random number from 1 to f for given inputs. \n",
    "    \"\"\"\n",
    "    return random.randint(1,f)\n",
    "    "
   ]
  },
  {
   "cell_type": "markdown",
   "metadata": {},
   "source": [
    "# FILTER URLS\n",
    "\n",
    "Filter the URLS that are in robots.txt files of server and the have been already processed. "
   ]
  },
  {
   "cell_type": "code",
   "execution_count": 4,
   "metadata": {},
   "outputs": [],
   "source": [
    "# write code for filtering urls here \n",
    "def filter_url(url):\n",
    "    domain = urlparse(url).netloc\n",
    "    try:\n",
    "        rp = urllib.robotparser.RobotFileParser()\n",
    "        rp.set_url(urlparse(url).scheme+\"://\"+domain+'/robots.txt')\n",
    "        rp.read()\n",
    "        return not rp.can_fetch('*',url)\n",
    "    except:\n",
    "        return False"
   ]
  },
  {
   "cell_type": "markdown",
   "metadata": {},
   "source": [
    "## ---------------------Write any other codes/data require to run the crawler above this cell-----------"
   ]
  },
  {
   "cell_type": "markdown",
   "metadata": {},
   "source": [
    "# Run Crawler"
   ]
  },
  {
   "cell_type": "code",
   "execution_count": 5,
   "metadata": {},
   "outputs": [],
   "source": [
    "# Theard task\n",
    "def crawler_thread_task(frontier):\n",
    "    while len(fetched_links) <= 1000:\n",
    "        url = frontier.get_url_from_bQ()\n",
    "        S.release()\n",
    "        if url and url not in fetched_links:\n",
    "            print(\" processing: \"+url)\n",
    "            fetched_links.append(url)\n",
    "            domain = urlparse(url).netloc\n",
    "            scheme = urlparse(url).scheme\n",
    "            req = requests.get(url, headers)\n",
    "            soup = BeautifulSoup(req.content, 'html.parser')\n",
    "            urls = soup.find_all('a',href=True)\n",
    "            urls=[url['href'] for url in urls] \n",
    "            for url in urls:\n",
    "                if 'http' in url:\n",
    "                    try:\n",
    "                        r = requests.head(url)\n",
    "                        if \"text/html\" in r.headers[\"content-type\"]:\n",
    "                            if filter_url(url) == False:\n",
    "                                frontier.add_to_fQ(url)\n",
    "                    except:\n",
    "                        pass\n",
    "                elif url[0] == '/':\n",
    "                    try:\n",
    "                        r = requests.head(scheme+\"://\"+domain+url)\n",
    "                        if \"text/html\" in r.headers[\"content-type\"]:\n",
    "                            if filter_url(scheme+\"://\"+domain+url) == False:\n",
    "                                frontier.add_to_fQ(scheme+\"://\"+domain+url)\n",
    "                    except:\n",
    "                        pass\n",
    "        frontier.move_to_bQ()\n",
    "    print(\"Crwaler Stopped\\n\")\n",
    "    None # define individual crawler thread's function here as studies in class"
   ]
  },
  {
   "cell_type": "code",
   "execution_count": 6,
   "metadata": {
    "scrolled": true
   },
   "outputs": [],
   "source": [
    "fetched_links =[]\n",
    "f = frontier()\n",
    "f.addSeed([\"https://docs.oracle.com/en/\",\"https://www.oracle.com/corporate/\",\"https://en.wikipedia.org/wiki/Machine_learning\",\"https://www.csie.ntu.edu.tw/~cjlin/libsvm/index.html\",\"https://www.csie.ntu.edu.tw/~cjlin/libsvm/index.html\",\"https://en.wikipedia.org/w/api.php\",\"https://en.wikipedia.org/api/\",\"https://en.wikipedia.org/wiki/Weka_(machine_learning)\"])"
   ]
  },
  {
   "cell_type": "code",
   "execution_count": null,
   "metadata": {},
   "outputs": [
    {
     "name": "stdout",
     "output_type": "stream",
     "text": [
      " processing: https://www.csie.ntu.edu.tw/~cjlin/libsvm/index.html\n",
      " processing: https://en.wikipedia.org/wiki/Machine_learning\n",
      " processing: https://en.wikipedia.org/w/api.php\n",
      " processing: https://docs.oracle.com/en/\n",
      " processing: https://www.oracle.com/corporate/\n",
      " processing: https://en.wikipedia.org/api/\n",
      " processing: https://en.wikipedia.org/wiki/Weka_(machine_learning)\n",
      " processing: https://www.oracle.com/corporate/accessibility/\n",
      " processing: http://www.gnuplot.info/\n",
      " processing: https://en.wikipedia.org/wiki/Weka_(disambiguation)\n",
      " processing: https://foundation.wikimedia.org/wiki/Developer_app_guidelines\n",
      " processing: https://www.mediawiki.org/wiki/Special:MyLanguage/API:Main_page\n",
      " processing: https://en.wiktionary.org/wiki/weka\n",
      " processing: https://en.wikipedia.org/wiki/File:Weka_(software)_logo.png\n",
      " processing: https://en.wikipedia.org/wiki/Weka\n",
      " processing: https://en.wikipedia.org/wiki/Special:Version/License/MediaWiki\n",
      " processing: http://clopinet.com/isabelle/Projects/NIPS2003/\n",
      " processing: https://en.wikipedia.org/wiki/File:Weka-3.5.5.png\n",
      " processing: https://www.oracle.com/universal-menu/\n",
      " processing: http://gnuplot.sourceforge.net/demo\n",
      " processing: https://en.wikipedia.org/wiki/Statistical_learning_in_language_acquisition\n",
      " processing: https://en.wikipedia.org/wiki/Endemism\n",
      " processing: https://www.oracle.com/cloud/sign-in.html\n",
      " processing: https://en.wikipedia.org/wiki/Cluster_analysis\n",
      " processing: https://en.wikipedia.org/wiki/University_of_California,_Irvine\n",
      " processing: https://en.wikipedia.org/wiki/File:Multi-Layer_Neural_Network-Vector-Blank.svg\n",
      " processing: https://www.oracle.com/webapps/redirect/signon?nexturl=\n",
      " processing: https://en.wikipedia.org/wiki/File:Disambig_gray.svg\n",
      " processing: https://en.wikipedia.org/wiki/Machine_Learning_(journal)\n",
      " processing: https://en.wikipedia.org/wiki/Software_release_life_cycle#BETA\n",
      " processing: https://www.oracle.com/corporate/contact/help.html\n",
      " processing: https://en.wikipedia.org/wiki/Software_release_life_cycle\n"
     ]
    }
   ],
   "source": [
    "# start the threads\n",
    "ts=[]\n",
    "for i in range(THREADS):\n",
    "    t = threading.Thread(target=crawler_thread_task, args=(f,))\n",
    "    ts.append(t)\n",
    "    t.start()\n",
    "while 1:\n",
    "    pass"
   ]
  },
  {
   "cell_type": "code",
   "execution_count": null,
   "metadata": {},
   "outputs": [],
   "source": []
  },
  {
   "cell_type": "markdown",
   "metadata": {},
   "source": [
    "## ------------------------------------------------------End of Notebook---------------------------------------------------"
   ]
  },
  {
   "cell_type": "code",
   "execution_count": null,
   "metadata": {},
   "outputs": [],
   "source": []
  },
  {
   "cell_type": "code",
   "execution_count": null,
   "metadata": {},
   "outputs": [],
   "source": []
  }
 ],
 "metadata": {
  "kernelspec": {
   "display_name": "Python 3",
   "language": "python",
   "name": "python3"
  },
  "language_info": {
   "codemirror_mode": {
    "name": "ipython",
    "version": 3
   },
   "file_extension": ".py",
   "mimetype": "text/x-python",
   "name": "python",
   "nbconvert_exporter": "python",
   "pygments_lexer": "ipython3",
   "version": "3.8.7"
  }
 },
 "nbformat": 4,
 "nbformat_minor": 4
}
